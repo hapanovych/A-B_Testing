{
 "cells": [
  {
   "cell_type": "markdown",
   "id": "23a2a622-cd60-4424-807b-4af81fdad8eb",
   "metadata": {},
   "source": [
    "1. Reading data from a file and outputting information about A/B test results:\n",
    "- Number of users in groups A and B, respectively;\n",
    "- The number of conversions in groups A and B, respectively;\n",
    "- The conversion rate in groups A and B, respectively;\n",
    "- The start date and end date of the test, as well as the duration of the test in days."
   ]
  },
  {
   "cell_type": "code",
   "execution_count": 8,
   "id": "5f7170d4-ea37-4fb8-8d50-e3a2e93df00f",
   "metadata": {},
   "outputs": [
    {
     "data": {
      "text/html": [
       "<div>\n",
       "<style scoped>\n",
       "    .dataframe tbody tr th:only-of-type {\n",
       "        vertical-align: middle;\n",
       "    }\n",
       "\n",
       "    .dataframe tbody tr th {\n",
       "        vertical-align: top;\n",
       "    }\n",
       "\n",
       "    .dataframe thead th {\n",
       "        text-align: right;\n",
       "    }\n",
       "</style>\n",
       "<table border=\"1\" class=\"dataframe\">\n",
       "  <thead>\n",
       "    <tr style=\"text-align: right;\">\n",
       "      <th></th>\n",
       "      <th>Users_number</th>\n",
       "      <th>Conversions_number</th>\n",
       "      <th>Conversion_rate</th>\n",
       "      <th>Start_date</th>\n",
       "      <th>End_date</th>\n",
       "      <th>Duration_in_days</th>\n",
       "    </tr>\n",
       "    <tr>\n",
       "      <th>test_group</th>\n",
       "      <th></th>\n",
       "      <th></th>\n",
       "      <th></th>\n",
       "      <th></th>\n",
       "      <th></th>\n",
       "      <th></th>\n",
       "    </tr>\n",
       "  </thead>\n",
       "  <tbody>\n",
       "    <tr>\n",
       "      <th>a</th>\n",
       "      <td>10013</td>\n",
       "      <td>611</td>\n",
       "      <td>0.061021</td>\n",
       "      <td>2023-07-03 01:46:14.688840</td>\n",
       "      <td>2023-07-25 01:41:19.152664</td>\n",
       "      <td>22</td>\n",
       "    </tr>\n",
       "    <tr>\n",
       "      <th>b</th>\n",
       "      <td>9985</td>\n",
       "      <td>889</td>\n",
       "      <td>0.089034</td>\n",
       "      <td>2023-07-03 01:42:34.033708</td>\n",
       "      <td>2023-07-25 01:35:59.130658</td>\n",
       "      <td>22</td>\n",
       "    </tr>\n",
       "  </tbody>\n",
       "</table>\n",
       "</div>"
      ],
      "text/plain": [
       "            Users_number  Conversions_number  Conversion_rate  \\\n",
       "test_group                                                      \n",
       "a                  10013                 611         0.061021   \n",
       "b                   9985                 889         0.089034   \n",
       "\n",
       "                           Start_date                   End_date  \\\n",
       "test_group                                                         \n",
       "a          2023-07-03 01:46:14.688840 2023-07-25 01:41:19.152664   \n",
       "b          2023-07-03 01:42:34.033708 2023-07-25 01:35:59.130658   \n",
       "\n",
       "            Duration_in_days  \n",
       "test_group                    \n",
       "a                         22  \n",
       "b                         22  "
      ]
     },
     "execution_count": 8,
     "metadata": {},
     "output_type": "execute_result"
    }
   ],
   "source": [
    "import pandas as pd\n",
    "import numpy as np\n",
    "import matplotlib.pyplot as plt\n",
    "\n",
    "test_data = pd.read_csv('D:\\Vitaliy\\Study\\Data Analitycs\\AB Testing\\p_ab_test_data.csv')\n",
    "test_data['timestamp'] = pd.to_datetime(test_data['timestamp'])\n",
    "test_groups = test_data.groupby('test_group').agg(Users_number=('test_group','count'), Conversions_number=('conversion','sum'), Conversion_rate=('conversion', 'mean'), Start_date = ('timestamp', 'min'), End_date = ('timestamp', 'max') ) \n",
    "test_groups['Duration_in_days'] = (test_data['timestamp'].dt.date.max() - test_data['timestamp'].dt.date.min()).days\n",
    "test_groups.head()"
   ]
  },
  {
   "cell_type": "code",
   "execution_count": 34,
   "id": "94a49bd5-0c6d-4550-9cb1-6841cdd674b7",
   "metadata": {},
   "outputs": [
    {
     "data": {
      "text/html": [
       "<div>\n",
       "<style scoped>\n",
       "    .dataframe tbody tr th:only-of-type {\n",
       "        vertical-align: middle;\n",
       "    }\n",
       "\n",
       "    .dataframe tbody tr th {\n",
       "        vertical-align: top;\n",
       "    }\n",
       "\n",
       "    .dataframe thead th {\n",
       "        text-align: right;\n",
       "    }\n",
       "</style>\n",
       "<table border=\"1\" class=\"dataframe\">\n",
       "  <thead>\n",
       "    <tr style=\"text-align: right;\">\n",
       "      <th></th>\n",
       "      <th>conversion</th>\n",
       "    </tr>\n",
       "  </thead>\n",
       "  <tbody>\n",
       "    <tr>\n",
       "      <th>count</th>\n",
       "      <td>19998.000000</td>\n",
       "    </tr>\n",
       "    <tr>\n",
       "      <th>mean</th>\n",
       "      <td>0.075008</td>\n",
       "    </tr>\n",
       "    <tr>\n",
       "      <th>std</th>\n",
       "      <td>0.263410</td>\n",
       "    </tr>\n",
       "    <tr>\n",
       "      <th>min</th>\n",
       "      <td>0.000000</td>\n",
       "    </tr>\n",
       "    <tr>\n",
       "      <th>25%</th>\n",
       "      <td>0.000000</td>\n",
       "    </tr>\n",
       "    <tr>\n",
       "      <th>50%</th>\n",
       "      <td>0.000000</td>\n",
       "    </tr>\n",
       "    <tr>\n",
       "      <th>75%</th>\n",
       "      <td>0.000000</td>\n",
       "    </tr>\n",
       "    <tr>\n",
       "      <th>max</th>\n",
       "      <td>1.000000</td>\n",
       "    </tr>\n",
       "  </tbody>\n",
       "</table>\n",
       "</div>"
      ],
      "text/plain": [
       "         conversion\n",
       "count  19998.000000\n",
       "mean       0.075008\n",
       "std        0.263410\n",
       "min        0.000000\n",
       "25%        0.000000\n",
       "50%        0.000000\n",
       "75%        0.000000\n",
       "max        1.000000"
      ]
     },
     "execution_count": 34,
     "metadata": {},
     "output_type": "execute_result"
    }
   ],
   "source": [
    "test_data.describe()"
   ]
  },
  {
   "cell_type": "code",
   "execution_count": 35,
   "id": "ca5c1580-8d5a-4da3-a17b-51360b3427a6",
   "metadata": {},
   "outputs": [
    {
     "data": {
      "text/html": [
       "<div>\n",
       "<style scoped>\n",
       "    .dataframe tbody tr th:only-of-type {\n",
       "        vertical-align: middle;\n",
       "    }\n",
       "\n",
       "    .dataframe tbody tr th {\n",
       "        vertical-align: top;\n",
       "    }\n",
       "\n",
       "    .dataframe thead th {\n",
       "        text-align: right;\n",
       "    }\n",
       "</style>\n",
       "<table border=\"1\" class=\"dataframe\">\n",
       "  <thead>\n",
       "    <tr style=\"text-align: right;\">\n",
       "      <th></th>\n",
       "      <th>user_id</th>\n",
       "      <th>timestamp</th>\n",
       "      <th>test_group</th>\n",
       "      <th>conversion</th>\n",
       "    </tr>\n",
       "  </thead>\n",
       "  <tbody>\n",
       "    <tr>\n",
       "      <th>count</th>\n",
       "      <td>19998</td>\n",
       "      <td>19998</td>\n",
       "      <td>19998</td>\n",
       "      <td>19998.000000</td>\n",
       "    </tr>\n",
       "    <tr>\n",
       "      <th>unique</th>\n",
       "      <td>19998</td>\n",
       "      <td>19998</td>\n",
       "      <td>2</td>\n",
       "      <td>NaN</td>\n",
       "    </tr>\n",
       "    <tr>\n",
       "      <th>top</th>\n",
       "      <td>7f6833e6-1141-4f20-b4b2-f1e31019b1fd</td>\n",
       "      <td>2023-07-04 04:40:55.848109</td>\n",
       "      <td>a</td>\n",
       "      <td>NaN</td>\n",
       "    </tr>\n",
       "    <tr>\n",
       "      <th>freq</th>\n",
       "      <td>1</td>\n",
       "      <td>1</td>\n",
       "      <td>10013</td>\n",
       "      <td>NaN</td>\n",
       "    </tr>\n",
       "    <tr>\n",
       "      <th>mean</th>\n",
       "      <td>NaN</td>\n",
       "      <td>NaN</td>\n",
       "      <td>NaN</td>\n",
       "      <td>0.075008</td>\n",
       "    </tr>\n",
       "    <tr>\n",
       "      <th>std</th>\n",
       "      <td>NaN</td>\n",
       "      <td>NaN</td>\n",
       "      <td>NaN</td>\n",
       "      <td>0.263410</td>\n",
       "    </tr>\n",
       "    <tr>\n",
       "      <th>min</th>\n",
       "      <td>NaN</td>\n",
       "      <td>NaN</td>\n",
       "      <td>NaN</td>\n",
       "      <td>0.000000</td>\n",
       "    </tr>\n",
       "    <tr>\n",
       "      <th>25%</th>\n",
       "      <td>NaN</td>\n",
       "      <td>NaN</td>\n",
       "      <td>NaN</td>\n",
       "      <td>0.000000</td>\n",
       "    </tr>\n",
       "    <tr>\n",
       "      <th>50%</th>\n",
       "      <td>NaN</td>\n",
       "      <td>NaN</td>\n",
       "      <td>NaN</td>\n",
       "      <td>0.000000</td>\n",
       "    </tr>\n",
       "    <tr>\n",
       "      <th>75%</th>\n",
       "      <td>NaN</td>\n",
       "      <td>NaN</td>\n",
       "      <td>NaN</td>\n",
       "      <td>0.000000</td>\n",
       "    </tr>\n",
       "    <tr>\n",
       "      <th>max</th>\n",
       "      <td>NaN</td>\n",
       "      <td>NaN</td>\n",
       "      <td>NaN</td>\n",
       "      <td>1.000000</td>\n",
       "    </tr>\n",
       "  </tbody>\n",
       "</table>\n",
       "</div>"
      ],
      "text/plain": [
       "                                     user_id                   timestamp  \\\n",
       "count                                  19998                       19998   \n",
       "unique                                 19998                       19998   \n",
       "top     7f6833e6-1141-4f20-b4b2-f1e31019b1fd  2023-07-04 04:40:55.848109   \n",
       "freq                                       1                           1   \n",
       "mean                                     NaN                         NaN   \n",
       "std                                      NaN                         NaN   \n",
       "min                                      NaN                         NaN   \n",
       "25%                                      NaN                         NaN   \n",
       "50%                                      NaN                         NaN   \n",
       "75%                                      NaN                         NaN   \n",
       "max                                      NaN                         NaN   \n",
       "\n",
       "       test_group    conversion  \n",
       "count       19998  19998.000000  \n",
       "unique          2           NaN  \n",
       "top             a           NaN  \n",
       "freq        10013           NaN  \n",
       "mean          NaN      0.075008  \n",
       "std           NaN      0.263410  \n",
       "min           NaN      0.000000  \n",
       "25%           NaN      0.000000  \n",
       "50%           NaN      0.000000  \n",
       "75%           NaN      0.000000  \n",
       "max           NaN      1.000000  "
      ]
     },
     "execution_count": 35,
     "metadata": {},
     "output_type": "execute_result"
    }
   ],
   "source": [
    "test_data.describe(include='all')"
   ]
  },
  {
   "cell_type": "markdown",
   "id": "cb3ff03d-add6-4d32-9fed-cc0df1533ec7",
   "metadata": {},
   "source": [
    "2. Selection of statistical criteria for hypothesis testing, calculation of statistics and p-value. Checking whether we can reject the null hypothesis."
   ]
  },
  {
   "cell_type": "markdown",
   "id": "197775dc-43a2-4522-86a2-df0ff63662c5",
   "metadata": {},
   "source": [
    "Student's t-test:"
   ]
  },
  {
   "cell_type": "code",
   "execution_count": 61,
   "id": "0e84699e-7027-4adf-a4a3-e8a7065196d2",
   "metadata": {},
   "outputs": [
    {
     "name": "stdout",
     "output_type": "stream",
     "text": [
      "t-statistic: -7.53, p-value: 0.0\n",
      "The difference is statistically significant, Null Hypothesis is rejected.\n"
     ]
    }
   ],
   "source": [
    "from scipy import stats\n",
    "\n",
    "alpha = 0.05\n",
    "\n",
    "statistic, pvalue = stats.ttest_ind(test_data[test_data['test_group'] == 'a']['conversion'],\n",
    "                                    test_data[test_data['test_group'] == 'b']['conversion'], \n",
    "                                    alternative='less')\n",
    "\n",
    "print(f't-statistic: {round(statistic, 2)}, p-value: {round(pvalue, 2)}')\n",
    "\n",
    "if pvalue < alpha:\n",
    "    print('The difference is statistically significant, Null Hypothesis is rejected.')\n",
    "else:\n",
    "    print('The difference is insignificant, Null Hypothesis cannot rejected.')"
   ]
  },
  {
   "cell_type": "markdown",
   "id": "6aa514dd-1be2-4949-98da-9046ec2f9ec9",
   "metadata": {},
   "source": [
    "Permutation test:"
   ]
  },
  {
   "cell_type": "code",
   "execution_count": 64,
   "id": "f7782a42-ac21-4a4d-ae0c-4d1193d2e2eb",
   "metadata": {},
   "outputs": [
    {
     "name": "stdout",
     "output_type": "stream",
     "text": [
      "statistic: -7.53, p-value: 0.02\n",
      "The difference is statistically significant, Null Hypothesis is rejected.\n"
     ]
    }
   ],
   "source": [
    "from scipy import stats\n",
    "\n",
    "def statistic(x, y):\n",
    "    return stats.ttest_ind(x, y).statistic\n",
    "\n",
    "alpha = 0.05\n",
    "    \n",
    "x = test_data[test_data['test_group'] == 'a']['conversion']\n",
    "y = test_data[test_data['test_group'] == 'b']['conversion']\n",
    "\n",
    "results = stats.permutation_test((x, y), statistic, n_resamples=100)\n",
    "\n",
    "print(f'statistic: {round(results.statistic, 2)}, p-value: {round(results.pvalue, 2)}')\n",
    "\n",
    "if results.pvalue < alpha:\n",
    "    print('The difference is statistically significant, Null Hypothesis is rejected.')\n",
    "else:\n",
    "    print('The difference is insignificant, Null Hypothesis cannot rejected.')\n"
   ]
  },
  {
   "cell_type": "markdown",
   "id": "fd76c30e-306a-4361-a156-3aae89d93858",
   "metadata": {},
   "source": [
    "3. Visualization plot for comparison of mean values in groups with 95% confidence intervals"
   ]
  },
  {
   "cell_type": "code",
   "execution_count": 65,
   "id": "aec2f574-fb51-4e7c-9710-465cfea54722",
   "metadata": {},
   "outputs": [
    {
     "data": {
      "image/png": "[encoded data removed]",
      "text/plain": [
       "<Figure size 800x600 with 1 Axes>"
      ]
     },
     "metadata": {},
     "output_type": "display_data"
    }
   ],
   "source": [
    "import matplotlib.pyplot as plt\n",
    "import seaborn as sns\n",
    "\n",
    "plt.figure(figsize=(8, 6))\n",
    "sns.barplot(x=test_data['test_group'], \n",
    "            y=test_data['conversion'], \n",
    "            errorbar=('ci', 95)) # Confidence Intervals\n",
    "\n",
    "plt.title('A/B Test Results')\n",
    "plt.xlabel('Group')\n",
    "plt.ylabel('Mean')\n",
    "\n",
    "plt.show()"
   ]
  },
  {
   "cell_type": "markdown",
   "id": "bfdf9ae7-f2b3-40c9-86bb-52ebabdadca5",
   "metadata": {},
   "source": [
    "4. Plotting a graph showing the change in conversion over time"
   ]
  },
  {
   "cell_type": "code",
   "execution_count": 66,
   "id": "52b5aa53-a8e3-4231-aa95-a09685de5e38",
   "metadata": {},
   "outputs": [
    {
     "data": {
      "image/png": "[encoded data removed]",
      "text/plain": [
       "<Figure size 1000x600 with 1 Axes>"
      ]
     },
     "metadata": {},
     "output_type": "display_data"
    }
   ],
   "source": [
    "cumulative_metric_a = test_data[test_data['test_group'] == 'a']['conversion'].expanding().mean().reset_index(drop=True)\n",
    "cumulative_metric_b = test_data[test_data['test_group'] == 'b']['conversion'].expanding().mean().reset_index(drop=True)\n",
    "\n",
    "plt.figure(figsize=(10, 6))\n",
    "plt.plot(cumulative_metric_a, label='A')\n",
    "plt.plot(cumulative_metric_b, label='B')\n",
    "\n",
    "plt.title('Cumulative Сonversion Rate Comparison')\n",
    "plt.xlabel('Time')\n",
    "plt.ylabel('Cumulative Сonversion Rate')\n",
    "\n",
    "plt.legend()\n",
    "plt.show()"
   ]
  },
  {
   "cell_type": "code",
   "execution_count": null,
   "id": "0ece5f84-887b-476f-b9f7-61d8e606097d",
   "metadata": {},
   "outputs": [],
   "source": []
  }
 ],
 "metadata": {
  "kernelspec": {
   "display_name": "Python 3 (ipykernel)",
   "language": "python",
   "name": "python3"
  },
  "language_info": {
   "codemirror_mode": {
    "name": "ipython",
    "version": 3
   },
   "file_extension": ".py",
   "mimetype": "text/x-python",
   "name": "python",
   "nbconvert_exporter": "python",
   "pygments_lexer": "ipython3",
   "version": "3.11.7"
  }
 },
 "nbformat": 4,
 "nbformat_minor": 5
}
